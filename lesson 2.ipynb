{
 "metadata": {
  "name": ""
 },
 "nbformat": 3,
 "nbformat_minor": 0,
 "worksheets": [
  {
   "cells": [
    {
     "cell_type": "code",
     "collapsed": false,
     "input": [
      "%pylab inline\n",
      "import numpy as np\n",
      "import operator\n",
      "import functools\n",
      "import itertools\n",
      "import sympy\n",
      "%run saved.ipy"
     ],
     "language": "python",
     "metadata": {},
     "outputs": [
      {
       "output_type": "stream",
       "stream": "stdout",
       "text": [
        "Populating the interactive namespace from numpy and matplotlib\n"
       ]
      }
     ],
     "prompt_number": 1
    },
    {
     "cell_type": "markdown",
     "metadata": {},
     "source": [
      "#### Importing data ####\n",
      "Now to import the data. Change the file below to work with your file system. I will print out the first five lines of the file, and then the first five entries in the array, so that you can ensure that you are parsing the right file in the right way."
     ]
    },
    {
     "cell_type": "code",
     "collapsed": false,
     "input": [
      "!head -n 5 mlclass-ex2/ex2data1.txt\n",
      "data = genfromtxt('mlclass-ex2/ex2data1.txt', delimiter=',').T\n",
      "data.T[:5]"
     ],
     "language": "python",
     "metadata": {},
     "outputs": [
      {
       "output_type": "stream",
       "stream": "stdout",
       "text": [
        "34.62365962451697,78.0246928153624,0\r\n",
        "30.28671076822607,43.89499752400101,0\r\n",
        "35.84740876993872,72.90219802708364,0\r\n",
        "60.18259938620976,86.30855209546826,1\r\n",
        "79.0327360507101,75.3443764369103,1\r\n"
       ]
      },
      {
       "metadata": {},
       "output_type": "pyout",
       "prompt_number": 2,
       "text": [
        "array([[ 34.62365962,  78.02469282,   0.        ],\n",
        "       [ 30.28671077,  43.89499752,   0.        ],\n",
        "       [ 35.84740877,  72.90219803,   0.        ],\n",
        "       [ 60.18259939,  86.3085521 ,   1.        ],\n",
        "       [ 79.03273605,  75.34437644,   1.        ]])"
       ]
      }
     ],
     "prompt_number": 2
    },
    {
     "cell_type": "markdown",
     "metadata": {},
     "source": [
      "#### Visualizing data ####\n",
      "\n",
      "Below, you can see a graph where the yellow represents not admitted, and the blue represents admitted. Exam 1 score is on the X, and exam 2 is on the y. Admitted test scores are black pluses, and the rejected ones are yellow dots."
     ]
    },
    {
     "cell_type": "code",
     "collapsed": false,
     "input": [
      "features = float64(data[:2])\n",
      "y = int8(data[2])\n",
      "mask = (y == 1)\n",
      "\n",
      "def plot_success():\n",
      "    scatter(features[0][~mask], features[1][~mask], c='y', marker='o')\n",
      "    scatter(features[0][mask], features[1][mask], c='k', marker='+')\n",
      "    xlim(20, 110)\n",
      "    ylim(20, 110)\n",
      "plot_success()"
     ],
     "language": "python",
     "metadata": {},
     "outputs": [
      {
       "metadata": {},
       "output_type": "display_data",
       "png": "[encoded data removed]",
       "text": [
        "<matplotlib.figure.Figure at 0x7f114e3af9d0>"
       ]
      }
     ],
     "prompt_number": 3
    },
    {
     "cell_type": "markdown",
     "metadata": {},
     "source": [
      "#### Implementing the logistic regression ####\n",
      "\n",
      "The logistic hypothesis is given as the sigmoid function applied to the linear hypothesis. Logistic cost is given as\n",
      "\n",
      "$$ J(\\theta)=\\frac{1}{m}\\sum_{i=1}^{m}-y^{i}\\log(h_\\theta(x^{i}))-(1-y^{i})\\log(1-h_\\theta(x^{i})) $$\n",
      "\n",
      "$$ \\frac{\\partial}{\\partial\\theta_{j}}J(\\theta) =\\sum_{i=1}^{m}(h_\\theta(x^{i})-y^i)x_j^i $$"
     ]
    },
    {
     "cell_type": "code",
     "collapsed": false,
     "input": [
      "def sigmoid(x):\n",
      "    return 1/(1 + exp(-x))\n",
      "\n",
      "def logistic_hypothesis(theta, X):\n",
      "    return sigmoid(linear_hypothesis(theta, X))\n",
      "\n",
      "def logistic_cost(theta, X, y):\n",
      "    return 1.0 / len(y) * sum(-y * log(logistic_hypothesis(theta, X) + 0.001) -\n",
      "                              (1 - y)* log(1.001 - logistic_hypothesis(theta, X)))"
     ],
     "language": "python",
     "metadata": {},
     "outputs": [],
     "prompt_number": 4
    },
    {
     "cell_type": "markdown",
     "metadata": {},
     "source": [
      "Let us check to make sure the sigmoid works."
     ]
    },
    {
     "cell_type": "code",
     "collapsed": false,
     "input": [
      "sigmoid(-10), sigmoid(0), sigmoid(10)"
     ],
     "language": "python",
     "metadata": {},
     "outputs": [
      {
       "metadata": {},
       "output_type": "pyout",
       "prompt_number": 5,
       "text": [
        "(4.5397868702434395e-05, 0.5, 0.99995460213129761)"
       ]
      }
     ],
     "prompt_number": 5
    },
    {
     "cell_type": "markdown",
     "metadata": {},
     "source": [
      "Now let us pack the features into an array with ones as the first column. I will also normalize them for you."
     ]
    },
    {
     "cell_type": "code",
     "collapsed": false,
     "input": [
      "X, means, stddevs = preprocess(data[:2])\n",
      "X.T[:5]"
     ],
     "language": "python",
     "metadata": {},
     "outputs": [
      {
       "metadata": {},
       "output_type": "pyout",
       "prompt_number": 6,
       "text": [
        "array([[ 1.        , -1.60224763,  0.63834112],\n",
        "       [ 1.        , -1.82625564, -1.2075414 ],\n",
        "       [ 1.        , -1.53903969,  0.3612943 ],\n",
        "       [ 1.        , -0.28210129,  1.0863683 ],\n",
        "       [ 1.        ,  0.69152826,  0.49337794]])"
       ]
      }
     ],
     "prompt_number": 6
    },
    {
     "cell_type": "markdown",
     "metadata": {},
     "source": [
      "Now let us test logistic cost for an initial theta."
     ]
    },
    {
     "cell_type": "code",
     "collapsed": false,
     "input": [
      "theta0 = zeros(3)\n",
      "logistic_cost(theta0, X, y)"
     ],
     "language": "python",
     "metadata": {},
     "outputs": [
      {
       "metadata": {},
       "output_type": "pyout",
       "prompt_number": 7,
       "text": [
        "0.69114917789727304"
       ]
      }
     ],
     "prompt_number": 7
    },
    {
     "cell_type": "markdown",
     "metadata": {},
     "source": [
      "Here is gradient descent showing us the theta and the cost."
     ]
    },
    {
     "cell_type": "code",
     "collapsed": false,
     "input": [
      "theta1, hist = gradient_descent(10000, theta0, 0.03, X, y, logistic_hypothesis)\n",
      "print theta1, logistic_cost(theta1, X, y)"
     ],
     "language": "python",
     "metadata": {},
     "outputs": [
      {
       "output_type": "stream",
       "stream": "stdout",
       "text": [
        "[ 1.60736354  3.75624897  3.4962897 ] 0.202453784022\n"
       ]
      }
     ],
     "prompt_number": 8
    },
    {
     "cell_type": "markdown",
     "metadata": {},
     "source": [
      "I am going to check my results against scipy's minimze function. They are pretty comparable. The costs are almost equal, but scipy is slightly better."
     ]
    },
    {
     "cell_type": "code",
     "collapsed": false,
     "input": [
      "from scipy.optimize import minimize\n",
      "\n",
      "f = functools.partial(logistic_cost, X=X, y=y)\n",
      "res = minimize(f, theta0)\n",
      "theta2 = res.x\n",
      "print theta2, logistic_cost(theta2, X, y)"
     ],
     "language": "python",
     "metadata": {},
     "outputs": [
      {
       "output_type": "stream",
       "stream": "stdout",
       "text": [
        "[ 1.72442064  4.00300485  3.73254394] 0.202058998171\n"
       ]
      }
     ],
     "prompt_number": 9
    },
    {
     "cell_type": "markdown",
     "metadata": {},
     "source": [
      "#### Test success ####\n",
      "\n",
      "The boundary for `theta1` (my gradient descent) and for `theta2` (scipy minimize) are almost the same, graphically. They split the data pretty well."
     ]
    },
    {
     "cell_type": "code",
     "collapsed": false,
     "input": [
      "def boundary(x1s, theta):\n",
      "    x2s = (theta[0] + x1s*theta[1]) / -theta[2]\n",
      "    return x2s\n",
      "figure()\n",
      "plot_success()\n",
      "x1s = array([20, 110])\n",
      "plot(x1s, boundary((x1s - means[1]) / stddevs[1], theta1) * stddevs[2] + means[2], 'r')\n",
      "plot(x1s, boundary((x1s - means[1]) / stddevs[1], theta2) * stddevs[2] + means[2], 'b')\n",
      "show()"
     ],
     "language": "python",
     "metadata": {},
     "outputs": [
      {
       "metadata": {},
       "output_type": "display_data",
       "png": "[encoded data removed]",
       "text": [
        "<matplotlib.figure.Figure at 0x7f1149141310>"
       ]
      }
     ],
     "prompt_number": 10
    },
    {
     "cell_type": "markdown",
     "metadata": {},
     "source": [
      "Here is a predicction for getting a 45 on test 1 and an 85 on test 2. This student has a 76% chance of getting in according to the model."
     ]
    },
    {
     "cell_type": "code",
     "collapsed": false,
     "input": [
      "X2 = array([1, 45, 85])\n",
      "X2 = (X2 - means) / stddevs\n",
      "logistic_hypothesis(X2, theta1)[0]"
     ],
     "language": "python",
     "metadata": {},
     "outputs": [
      {
       "metadata": {},
       "output_type": "pyout",
       "prompt_number": 11,
       "text": [
        "0.76003994819352505"
       ]
      }
     ],
     "prompt_number": 11
    },
    {
     "cell_type": "markdown",
     "metadata": {},
     "source": [
      "#### Importing data ####\n",
      "Again, first the first five lines of the file, then the first five entries in the array."
     ]
    },
    {
     "cell_type": "code",
     "collapsed": false,
     "input": [
      "!head -n 5 mlclass-ex2/ex2data1.txt\n",
      "data = genfromtxt('mlclass-ex2/ex2data2.txt', delimiter=',').T\n",
      "data.T[:5]"
     ],
     "language": "python",
     "metadata": {},
     "outputs": [
      {
       "output_type": "stream",
       "stream": "stdout",
       "text": [
        "34.62365962451697,78.0246928153624,0\r\n",
        "30.28671076822607,43.89499752400101,0\r\n",
        "35.84740876993872,72.90219802708364,0\r\n",
        "60.18259938620976,86.30855209546826,1\r\n",
        "79.0327360507101,75.3443764369103,1\r\n"
       ]
      },
      {
       "metadata": {},
       "output_type": "pyout",
       "prompt_number": 12,
       "text": [
        "array([[ 0.051267,  0.69956 ,  1.      ],\n",
        "       [-0.092742,  0.68494 ,  1.      ],\n",
        "       [-0.21371 ,  0.69225 ,  1.      ],\n",
        "       [-0.375   ,  0.50219 ,  1.      ],\n",
        "       [-0.51325 ,  0.46564 ,  1.      ]])"
       ]
      }
     ],
     "prompt_number": 12
    },
    {
     "cell_type": "markdown",
     "metadata": {},
     "source": [
      "#### Visualizing the data ####"
     ]
    },
    {
     "cell_type": "code",
     "collapsed": false,
     "input": [
      "features = float64(data[:2])\n",
      "y = int8(data[2])\n",
      "mask = (y == 1)\n",
      "\n",
      "def plot_success():\n",
      "    scatter(features[0][~mask], features[1][~mask], c='y', marker='o')\n",
      "    scatter(features[0][mask], features[1][mask], c='k', marker='+')\n",
      "plot_success()"
     ],
     "language": "python",
     "metadata": {},
     "outputs": [
      {
       "metadata": {},
       "output_type": "display_data",
       "png": "[encoded data removed]",
       "text": [
        "<matplotlib.figure.Figure at 0x7f1148c0bed0>"
       ]
      }
     ],
     "prompt_number": 15
    },
    {
     "cell_type": "markdown",
     "metadata": {},
     "source": [
      "#### Preprocessing data ####\n",
      "First I will have to load the features in as x1 and x2. Then I will create a feature array with $1$, $x_1$, $x_2$, $x_1 x_2$, $x_1^2$, $x_2^2$, ... all the way to sixth degree polynomials. To do this, I will cycle through the combinations with replacement from the [itertools](https://docs.python.org/2/library/itertools.html#itertools.combinations_with_replacement) module, which will select combinations of length 6 out of x1, x2, and the identity element (1), and then multiply them all together."
     ]
    },
    {
     "cell_type": "code",
     "collapsed": false,
     "input": [
      "x1 = features[0]\n",
      "x2 = features[1]\n",
      "one = ones_like(features[0], dtype=float64)\n",
      "\n",
      "xs = ones((28, len(x1)))\n",
      "for n, terms in enumerate(itertools.combinations_with_replacement((one, x1, x2), 6)):\n",
      "    xs[n] = ones_like(features[0])\n",
      "    for term in terms:\n",
      "        xs[n] *= term\n",
      "\n",
      "print xs[:10, :4]"
     ],
     "language": "python",
     "metadata": {},
     "outputs": [
      {
       "output_type": "stream",
       "stream": "stdout",
       "text": [
        "[[  1.00000000e+00   1.00000000e+00   1.00000000e+00   1.00000000e+00]\n",
        " [  5.12670000e-02  -9.27420000e-02  -2.13710000e-01  -3.75000000e-01]\n",
        " [  6.99560000e-01   6.84940000e-01   6.92250000e-01   5.02190000e-01]\n",
        " [  2.62830529e-03   8.60107856e-03   4.56719641e-02   1.40625000e-01]\n",
        " [  3.58643425e-02  -6.35227055e-02  -1.47940748e-01  -1.88321250e-01]\n",
        " [  4.89384194e-01   4.69142804e-01   4.79210063e-01   2.52194796e-01]\n",
        " [  1.34745327e-04  -7.97681228e-04  -9.76055545e-03  -5.27343750e-02]\n",
        " [  1.83865725e-03   5.89122275e-03   3.16164171e-02   7.06204687e-02]\n",
        " [  2.50892595e-02  -4.35092419e-02  -1.02411982e-01  -9.45730485e-02]\n",
        " [  3.42353606e-01   3.21334672e-01   3.31733166e-01   1.26649705e-01]]\n"
       ]
      }
     ],
     "prompt_number": 29
    },
    {
     "cell_type": "markdown",
     "metadata": {},
     "source": [
      "The text says this method yields 28 features. I can confirm that."
     ]
    },
    {
     "cell_type": "code",
     "collapsed": false,
     "input": [
      "len(list(itertools.combinations_with_replacement((one, x1, x2), 6)))"
     ],
     "language": "python",
     "metadata": {},
     "outputs": [
      {
       "metadata": {},
       "output_type": "pyout",
       "prompt_number": 30,
       "text": [
        "28"
       ]
      }
     ],
     "prompt_number": 30
    },
    {
     "cell_type": "markdown",
     "metadata": {},
     "source": [
      "Then I will reuse the feature normalization function that I adapted from Lesson 1's notebook into `saved.ipy`."
     ]
    },
    {
     "cell_type": "code",
     "collapsed": false,
     "input": [
      "X, means, stddevs = preprocess(xs[1:])\n",
      "theta0 = zeros(len(X))\n",
      "print X[:10, :4]"
     ],
     "language": "python",
     "metadata": {},
     "outputs": [
      {
       "output_type": "stream",
       "stream": "stdout",
       "text": [
        "[[ 1.          1.          1.          1.        ]\n",
        " [-0.00710129 -0.29829632 -0.54290103 -0.8690393 ]\n",
        " [ 0.99791805  0.9696688   0.98379343  0.61655322]\n",
        " [-0.98977681 -0.96564216 -0.8158469  -0.43216267]\n",
        " [ 0.27489801 -0.1705373  -0.54888415 -0.72986247]\n",
        " [ 0.66359293  0.59215143  0.62768358 -0.17356133]\n",
        " [-0.21829255 -0.22170204 -0.25447549 -0.41161262]\n",
        " [-0.21502962 -0.1848169   0.00696975  0.29775303]\n",
        " [ 0.06425668 -0.39457831 -0.78856124 -0.73612894]\n",
        " [ 0.61587084  0.55114726  0.58316733 -0.04834594]]\n"
       ]
      }
     ],
     "prompt_number": 17
    },
    {
     "cell_type": "markdown",
     "metadata": {},
     "source": [
      "Slightly modified for in order to do regularization."
     ]
    },
    {
     "cell_type": "code",
     "collapsed": false,
     "input": [
      "def regularized_logistic_cost(theta, X, y, lambda_):\n",
      "    return 1.0 / len(y) * sum(-y * log(logistic_hypothesis(theta, X) + 0.001) -\n",
      "                              (1 - y) * log(1.001 - logistic_hypothesis(theta, X))) + lambda_ / (2 * len(y)) * sum(theta**2)\n",
      "logistic_cost = functools.partial(regularized_logistic_cost, lambda_=1)"
     ],
     "language": "python",
     "metadata": {},
     "outputs": [],
     "prompt_number": 18
    },
    {
     "cell_type": "code",
     "collapsed": false,
     "input": [
      "print '{} after initial guess'.format(logistic_cost(theta0, X, y, ))\n",
      "theta1, hist = gradient_descent(10000, theta0, 0.03, X, y, logistic_hypothesis)\n",
      "print '{} after descent'.format(logistic_cost(theta1, X, y))\n",
      "theta2 = minimize(functools.partial(logistic_cost, X=X, y=y), theta0).x\n",
      "print '{} after scipy minimize'.format(logistic_cost(theta2, X, y))"
     ],
     "language": "python",
     "metadata": {},
     "outputs": [
      {
       "output_type": "stream",
       "stream": "stdout",
       "text": [
        "0.691149177897 after initial guess\n",
        "0.299511150156 after descent"
       ]
      },
      {
       "output_type": "stream",
       "stream": "stdout",
       "text": [
        "\n",
        "0.217779068336 after scipy minimize"
       ]
      },
      {
       "output_type": "stream",
       "stream": "stdout",
       "text": [
        "\n"
       ]
      }
     ],
     "prompt_number": 19
    },
    {
     "cell_type": "markdown",
     "metadata": {},
     "source": [
      "So visualizing this boundary doesn't quite work yet. This is because sympy can not solve a 28-term two dimensional polynomial. If anybody can figure out how to do this, please email me at thegladiusmaximus@gmail.com."
     ]
    },
    {
     "cell_type": "code",
     "collapsed": false,
     "input": [
      "def boundary(x1s, theta):\n",
      "    polynomial = 0\n",
      "    x1, x2 = sympy.symbols('x_1, x_2')\n",
      "    for n, c in enumerate(itertools.combinations_with_replacement((1, x1, x2), 6)):\n",
      "        polynomial += theta[n] * reduce(operator.mul, c, 1)\n",
      "    print polynomial\n",
      "    print sympy.solve(polynomial, x2)\n",
      "    gen_x2 = sympy.lambdify(x2, sympy.solve(polynomial, x2)[0], 'numpy')\n",
      "    x2s = gen_x2(x1s)\n",
      "    return x2s\n",
      "figure()\n",
      "plot_success()\n",
      "x1s = linspace(-2, 2)\n",
      "plot(x1s, boundary((x1s - means[1]) / stddevs[1], theta1) * stddevs[2] + means[2], 'b')\n",
      "show()"
     ],
     "language": "python",
     "metadata": {},
     "outputs": [
      {
       "output_type": "stream",
       "stream": "stdout",
       "text": [
        "-1.45698648197135*x_1**6 - 0.311046880314174*x_1**5*x_2 - 0.300272920509893*x_1**5 - 0.240001287493939*x_1**4*x_2**2 - 0.0391077240030837*x_1**4*x_2 - 1.2888493051168*x_1**4 + 0.835040847700456*x_1**3*x_2**3 + 1.38678397066616*x_1**3*x_2**2 - 0.280021688832824*x_1**3*x_2 + 0.409688335105457*x_1**3 - 1.27154095687758*x_1**2*x_2**4 - 0.45816157553748*x_1**2*x_2**3 - 0.235505121619885*x_1**2*x_2**2 + 0.791302688962597*x_1**2*x_2 - 0.955670661881372*x_1**2 - 0.92491941104659*x_1*x_2**5 - 0.943055919067872*x_1*x_2**4 - 0.597187061898627*x_1*x_2**3 + 0.504766042253731*x_1*x_2**2 - 1.46068605208857*x_1*x_2 + 1.00096200907068*x_1 - 0.67611593658222*x_2**6 + 0.0680139016287724*x_2**5 - 1.42379157672063*x_2**4 + 0.326421544930878*x_2**3 - 1.55617452315563*x_2**2 + 1.96169966473423*x_2 - 0.928750674111531\n",
        "[]"
       ]
      },
      {
       "ename": "IndexError",
       "evalue": "list index out of range",
       "output_type": "pyerr",
       "traceback": [
        "\u001b[0;31m---------------------------------------------------------------------------\u001b[0m\n\u001b[0;31mIndexError\u001b[0m                                Traceback (most recent call last)",
        "\u001b[0;32m<ipython-input-40-ea651b920798>\u001b[0m in \u001b[0;36m<module>\u001b[0;34m()\u001b[0m\n\u001b[1;32m     12\u001b[0m \u001b[0mplot_success\u001b[0m\u001b[0;34m(\u001b[0m\u001b[0;34m)\u001b[0m\u001b[0;34m\u001b[0m\u001b[0m\n\u001b[1;32m     13\u001b[0m \u001b[0mx1s\u001b[0m \u001b[0;34m=\u001b[0m \u001b[0mlinspace\u001b[0m\u001b[0;34m(\u001b[0m\u001b[0;34m-\u001b[0m\u001b[0;36m2\u001b[0m\u001b[0;34m,\u001b[0m \u001b[0;36m2\u001b[0m\u001b[0;34m)\u001b[0m\u001b[0;34m\u001b[0m\u001b[0m\n\u001b[0;32m---> 14\u001b[0;31m \u001b[0mplot\u001b[0m\u001b[0;34m(\u001b[0m\u001b[0mx1s\u001b[0m\u001b[0;34m,\u001b[0m \u001b[0mboundary\u001b[0m\u001b[0;34m(\u001b[0m\u001b[0;34m(\u001b[0m\u001b[0mx1s\u001b[0m \u001b[0;34m-\u001b[0m \u001b[0mmeans\u001b[0m\u001b[0;34m[\u001b[0m\u001b[0;36m1\u001b[0m\u001b[0;34m]\u001b[0m\u001b[0;34m)\u001b[0m \u001b[0;34m/\u001b[0m \u001b[0mstddevs\u001b[0m\u001b[0;34m[\u001b[0m\u001b[0;36m1\u001b[0m\u001b[0;34m]\u001b[0m\u001b[0;34m,\u001b[0m \u001b[0mtheta1\u001b[0m\u001b[0;34m)\u001b[0m \u001b[0;34m*\u001b[0m \u001b[0mstddevs\u001b[0m\u001b[0;34m[\u001b[0m\u001b[0;36m2\u001b[0m\u001b[0;34m]\u001b[0m \u001b[0;34m+\u001b[0m \u001b[0mmeans\u001b[0m\u001b[0;34m[\u001b[0m\u001b[0;36m2\u001b[0m\u001b[0;34m]\u001b[0m\u001b[0;34m,\u001b[0m \u001b[0;34m'b'\u001b[0m\u001b[0;34m)\u001b[0m\u001b[0;34m\u001b[0m\u001b[0m\n\u001b[0m\u001b[1;32m     15\u001b[0m \u001b[0mshow\u001b[0m\u001b[0;34m(\u001b[0m\u001b[0;34m)\u001b[0m\u001b[0;34m\u001b[0m\u001b[0m\n",
        "\u001b[0;32m<ipython-input-40-ea651b920798>\u001b[0m in \u001b[0;36mboundary\u001b[0;34m(x1s, theta)\u001b[0m\n\u001b[1;32m      6\u001b[0m     \u001b[0;32mprint\u001b[0m \u001b[0mpolynomial\u001b[0m\u001b[0;34m\u001b[0m\u001b[0m\n\u001b[1;32m      7\u001b[0m     \u001b[0;32mprint\u001b[0m \u001b[0msympy\u001b[0m\u001b[0;34m.\u001b[0m\u001b[0msolve\u001b[0m\u001b[0;34m(\u001b[0m\u001b[0mpolynomial\u001b[0m\u001b[0;34m,\u001b[0m \u001b[0mx2\u001b[0m\u001b[0;34m)\u001b[0m\u001b[0;34m\u001b[0m\u001b[0m\n\u001b[0;32m----> 8\u001b[0;31m     \u001b[0mgen_x2\u001b[0m \u001b[0;34m=\u001b[0m \u001b[0msympy\u001b[0m\u001b[0;34m.\u001b[0m\u001b[0mlambdify\u001b[0m\u001b[0;34m(\u001b[0m\u001b[0mx2\u001b[0m\u001b[0;34m,\u001b[0m \u001b[0msympy\u001b[0m\u001b[0;34m.\u001b[0m\u001b[0msolve\u001b[0m\u001b[0;34m(\u001b[0m\u001b[0mpolynomial\u001b[0m\u001b[0;34m,\u001b[0m \u001b[0mx2\u001b[0m\u001b[0;34m)\u001b[0m\u001b[0;34m[\u001b[0m\u001b[0;36m0\u001b[0m\u001b[0;34m]\u001b[0m\u001b[0;34m,\u001b[0m \u001b[0;34m'numpy'\u001b[0m\u001b[0;34m)\u001b[0m\u001b[0;34m\u001b[0m\u001b[0m\n\u001b[0m\u001b[1;32m      9\u001b[0m     \u001b[0mx2s\u001b[0m \u001b[0;34m=\u001b[0m \u001b[0mgen_x2\u001b[0m\u001b[0;34m(\u001b[0m\u001b[0mx1s\u001b[0m\u001b[0;34m)\u001b[0m\u001b[0;34m\u001b[0m\u001b[0m\n\u001b[1;32m     10\u001b[0m     \u001b[0;32mreturn\u001b[0m \u001b[0mx2s\u001b[0m\u001b[0;34m\u001b[0m\u001b[0m\n",
        "\u001b[0;31mIndexError\u001b[0m: list index out of range"
       ]
      },
      {
       "output_type": "stream",
       "stream": "stdout",
       "text": [
        "\n"
       ]
      },
      {
       "metadata": {},
       "output_type": "display_data",
       "png": "[encoded data removed]",
       "text": [
        "<matplotlib.figure.Figure at 0x7f11488710d0>"
       ]
      }
     ],
     "prompt_number": 40
    },
    {
     "cell_type": "markdown",
     "metadata": {},
     "source": [
      "Here is the actual polynomial polynomial that I can't solve. [Wolfram Alpha](http://www.wolframalpha.com/input/?i=0+%3D+-1.45698648197135*x_1%5E6+-+0.311046880314174*x_1%5E5*x_2+-+0.300272920509893*x_1%5E5+-+0.240001287493939*x_1%5E4*x_2%5E2+-+0.0391077240030837*x_1%5E4*x_2+-+1.2888493051168*x_1%5E4+%2B+0.835040847700456*x_1%5E3*x_2) can do it, I wonder why I can't."
     ]
    },
    {
     "cell_type": "code",
     "collapsed": false,
     "input": [
      "print '0 = ' + '''-1.45698648197135*x_1**6 - 0.311046880314174*x_1**5*x_2 - 0.300272920509893*x_1**5 - 0.240001287493939*x_1**4*x_2**2 - 0.0391077240030837*x_1**4*x_2 - 1.2888493051168*x_1**4 + 0.835040847700456*x_1**3*x_2**3 + 1.38678397066616*x_1**3*x_2**2 - 0.280021688832824*x_1**3*x_2 + 0.409688335105457*x_1**3 - 1.27154095687758*x_1**2*x_2**4 - 0.45816157553748*x_1**2*x_2**3 - 0.235505121619885*x_1**2*x_2**2 + 0.791302688962597*x_1**2*x_2 - 0.955670661881372*x_1**2 - 0.92491941104659*x_1*x_2**5 - 0.943055919067872*x_1*x_2**4 - 0.597187061898627*x_1*x_2**3 + 0.504766042253731*x_1*x_2**2 - 1.46068605208857*x_1*x_2 + 1.00096200907068*x_1 - 0.67611593658222*x_2**6 + 0.0680139016287724*x_2**5 - 1.42379157672063*x_2**4 + 0.326421544930878*x_2**3 - 1.55617452315563*x_2**2 + 1.96169966473423*x_2 - 0.928750674111531'''.replace('**', '^')"
     ],
     "language": "python",
     "metadata": {},
     "outputs": [
      {
       "output_type": "stream",
       "stream": "stdout",
       "text": [
        "0 = -1.45698648197135*x_1^6 - 0.311046880314174*x_1^5*x_2 - 0.300272920509893*x_1^5 - 0.240001287493939*x_1^4*x_2^2 - 0.0391077240030837*x_1^4*x_2 - 1.2888493051168*x_1^4 + 0.835040847700456*x_1^3*x_2^3 + 1.38678397066616*x_1^3*x_2^2 - 0.280021688832824*x_1^3*x_2 + 0.409688335105457*x_1^3 - 1.27154095687758*x_1^2*x_2^4 - 0.45816157553748*x_1^2*x_2^3 - 0.235505121619885*x_1^2*x_2^2 + 0.791302688962597*x_1^2*x_2 - 0.955670661881372*x_1^2 - 0.92491941104659*x_1*x_2^5 - 0.943055919067872*x_1*x_2^4 - 0.597187061898627*x_1*x_2^3 + 0.504766042253731*x_1*x_2^2 - 1.46068605208857*x_1*x_2 + 1.00096200907068*x_1 - 0.67611593658222*x_2^6 + 0.0680139016287724*x_2^5 - 1.42379157672063*x_2^4 + 0.326421544930878*x_2^3 - 1.55617452315563*x_2^2 + 1.96169966473423*x_2 - 0.928750674111531\n"
       ]
      }
     ],
     "prompt_number": 39
    }
   ],
   "metadata": {}
  }
 ]
}
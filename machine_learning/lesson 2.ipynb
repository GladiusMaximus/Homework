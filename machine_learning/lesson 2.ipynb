{
 "metadata": {
  "name": "",
  "signature": "sha256:b78e7737c0780ceb1f4c8711a9a5c533d66b3e51e285d4e90cf0a471a2e25a18"
 },
 "nbformat": 3,
 "nbformat_minor": 0,
 "worksheets": [
  {
   "cells": [
    {
     "cell_type": "code",
     "collapsed": false,
     "input": [
      "%pylab inline\n",
      "import numpy as np\n",
      "import operator\n",
      "import functools\n",
      "import itertools\n",
      "import sympy\n",
      "from scipy.optimize import minimize\n",
      "%run saved.ipy"
     ],
     "language": "python",
     "metadata": {},
     "outputs": [
      {
       "output_type": "stream",
       "stream": "stdout",
       "text": [
        "Populating the interactive namespace from numpy and matplotlib\n"
       ]
      }
     ],
     "prompt_number": 3
    },
    {
     "cell_type": "markdown",
     "metadata": {},
     "source": [
      "#### Importing data ####\n",
      "Now to import the data. Change the file below to work with your file system. I will print out the first five lines of the file, and then the first five entries in the array, so that you can ensure that you are parsing the right file in the right way."
     ]
    },
    {
     "cell_type": "code",
     "collapsed": false,
     "input": [
      "!head -n 5 mlclass-ex2/ex2data1.txt\n",
      "data = genfromtxt('mlclass-ex2/ex2data1.txt', delimiter=',').T\n",
      "data.T[:5]"
     ],
     "language": "python",
     "metadata": {},
     "outputs": [
      {
       "output_type": "stream",
       "stream": "stdout",
       "text": [
        "34.62365962451697,78.0246928153624,0\r\n",
        "30.28671076822607,43.89499752400101,0\r\n",
        "35.84740876993872,72.90219802708364,0\r\n",
        "60.18259938620976,86.30855209546826,1\r\n",
        "79.0327360507101,75.3443764369103,1\r\n"
       ]
      },
      {
       "metadata": {},
       "output_type": "pyout",
       "prompt_number": 4,
       "text": [
        "array([[ 34.62365962,  78.02469282,   0.        ],\n",
        "       [ 30.28671077,  43.89499752,   0.        ],\n",
        "       [ 35.84740877,  72.90219803,   0.        ],\n",
        "       [ 60.18259939,  86.3085521 ,   1.        ],\n",
        "       [ 79.03273605,  75.34437644,   1.        ]])"
       ]
      }
     ],
     "prompt_number": 4
    },
    {
     "cell_type": "markdown",
     "metadata": {},
     "source": [
      "#### Visualizing data ####\n",
      "\n",
      "Below, you can see a graph where the yellow represents not admitted, and the blue represents admitted. Exam 1 score is on the X, and exam 2 is on the y. Admitted test scores are black pluses, and the rejected ones are yellow dots."
     ]
    },
    {
     "cell_type": "code",
     "collapsed": false,
     "input": [
      "features = float64(data[:2])\n",
      "y = int8(data[2])\n",
      "mask = (y == 1)\n",
      "\n",
      "def plot_success():\n",
      "    scatter(features[0][~mask], features[1][~mask], c='y', marker='o')\n",
      "    scatter(features[0][mask], features[1][mask], c='k', marker='+')\n",
      "    xlim(20, 110)\n",
      "    ylim(20, 110)\n",
      "plot_success()"
     ],
     "language": "python",
     "metadata": {},
     "outputs": [
      {
       "metadata": {},
       "output_type": "display_data",
       "png": "[encoded data removed]",
       "text": [
        "<matplotlib.figure.Figure at 0x7f379a2b6450>"
       ]
      }
     ],
     "prompt_number": 5
    },
    {
     "cell_type": "markdown",
     "metadata": {},
     "source": [
      "#### Implementing the logistic regression ####\n",
      "\n",
      "The logistic hypothesis is given as the sigmoid function applied to the linear hypothesis. Logistic cost is given as\n",
      "\n",
      "$$ J(\\theta)=\\frac{1}{m}\\sum_{i=1}^{m}-y^{i}\\log(h_\\theta(x^{i}))-(1-y^{i})\\log(1-h_\\theta(x^{i})) $$\n",
      "\n",
      "$$ \\frac{\\partial}{\\partial\\theta_{j}}J(\\theta) =\\sum_{i=1}^{m}(h_\\theta(x^{i})-y^i)x_j^i $$"
     ]
    },
    {
     "cell_type": "code",
     "collapsed": false,
     "input": [
      "def sigmoid(x):\n",
      "    return 1/(1 + exp(-x))\n",
      "\n",
      "def logistic_hypothesis(theta, X):\n",
      "    return sigmoid(linear_hypothesis(theta, X))\n",
      "\n",
      "def logistic_cost(theta, X, y):\n",
      "    h = logistic_hypothesis\n",
      "    return 1.0 / len(y) * sum(-y * log(h(theta, X)) -\n",
      "                              (1 - y)* log(1.0 - h(theta, X)))\n",
      "\n",
      "def gradient_logistic_cost(theta, X, y):\n",
      "    h = logistic_hypothesis\n",
      "    return 1.0 / len(y) * sum((h(theta, X) - y)[newaxis, :] * X, axis=1)"
     ],
     "language": "python",
     "metadata": {},
     "outputs": [],
     "prompt_number": 6
    },
    {
     "cell_type": "markdown",
     "metadata": {},
     "source": [
      "Let us check to make sure the sigmoid works."
     ]
    },
    {
     "cell_type": "code",
     "collapsed": false,
     "input": [
      "sigmoid(-10), sigmoid(0), sigmoid(10)"
     ],
     "language": "python",
     "metadata": {},
     "outputs": [
      {
       "metadata": {},
       "output_type": "pyout",
       "prompt_number": 7,
       "text": [
        "(4.5397868702434395e-05, 0.5, 0.99995460213129761)"
       ]
      }
     ],
     "prompt_number": 7
    },
    {
     "cell_type": "markdown",
     "metadata": {},
     "source": [
      "Now let us pack the features into an array with ones as the first column. I will also normalize them for you."
     ]
    },
    {
     "cell_type": "code",
     "collapsed": false,
     "input": [
      "X, means, stddevs = preprocess(data[:2])\n",
      "X.T[:5]"
     ],
     "language": "python",
     "metadata": {},
     "outputs": [
      {
       "metadata": {},
       "output_type": "pyout",
       "prompt_number": 8,
       "text": [
        "array([[ 1.        , -1.60224763,  0.63834112],\n",
        "       [ 1.        , -1.82625564, -1.2075414 ],\n",
        "       [ 1.        , -1.53903969,  0.3612943 ],\n",
        "       [ 1.        , -0.28210129,  1.0863683 ],\n",
        "       [ 1.        ,  0.69152826,  0.49337794]])"
       ]
      }
     ],
     "prompt_number": 8
    },
    {
     "cell_type": "markdown",
     "metadata": {},
     "source": [
      "Now let us test logistic cost for an initial theta."
     ]
    },
    {
     "cell_type": "code",
     "collapsed": false,
     "input": [
      "theta0 = zeros(3)\n",
      "logistic_cost(theta0, X, y)"
     ],
     "language": "python",
     "metadata": {},
     "outputs": [
      {
       "metadata": {},
       "output_type": "pyout",
       "prompt_number": 12,
       "text": [
        "0.69314718055994595"
       ]
      },
      {
       "output_type": "stream",
       "stream": "stdout",
       "text": [
        "\n"
       ]
      }
     ],
     "prompt_number": 12
    },
    {
     "cell_type": "markdown",
     "metadata": {},
     "source": [
      "Here is gradient descent showing us the theta and the cost."
     ]
    },
    {
     "cell_type": "code",
     "collapsed": false,
     "input": [
      "theta1 = minimize(logistic_cost, theta0, args=(X, y), jac=gradient_logistic_cost).x\n",
      "print theta1, logistic_cost(theta1, X, y)"
     ],
     "language": "python",
     "metadata": {},
     "outputs": [
      {
       "output_type": "stream",
       "stream": "stdout",
       "text": [
        " [ 1.71835728  3.99274735  3.7249355 ] 0.203497702351\n"
       ]
      }
     ],
     "prompt_number": 15
    },
    {
     "cell_type": "markdown",
     "metadata": {},
     "source": [
      "#### Test success ####\n",
      "\n",
      "The boundary for `theta1` splits the data into two groups"
     ]
    },
    {
     "cell_type": "code",
     "collapsed": false,
     "input": [
      "def boundary(x1s, theta):\n",
      "    x2s = (theta[0] + x1s*theta[1]) / -theta[2]\n",
      "    return x2s\n",
      "figure()\n",
      "plot_success()\n",
      "x1s = array([20, 110])\n",
      "plot(x1s, boundary((x1s - means[1]) / stddevs[1], theta1) * stddevs[2] + means[2], 'b')\n",
      "show()"
     ],
     "language": "python",
     "metadata": {},
     "outputs": [
      {
       "metadata": {},
       "output_type": "display_data",
       "png": "[encoded data removed]",
       "text": [
        "<matplotlib.figure.Figure at 0x7f37b9231450>"
       ]
      }
     ],
     "prompt_number": 16
    },
    {
     "cell_type": "markdown",
     "metadata": {},
     "source": [
      "Here is a predicction for getting a 45 on test 1 and an 85 on test 2. This student has a 76% chance of getting in according to the model."
     ]
    },
    {
     "cell_type": "code",
     "collapsed": false,
     "input": [
      "X2 = array([1, 45, 85])\n",
      "X2 = (X2 - means) / stddevs\n",
      "logistic_hypothesis(X2, theta1)[0]"
     ],
     "language": "python",
     "metadata": {},
     "outputs": [
      {
       "metadata": {},
       "output_type": "pyout",
       "prompt_number": 17,
       "text": [
        "0.77624667848093176"
       ]
      }
     ],
     "prompt_number": 17
    },
    {
     "cell_type": "markdown",
     "metadata": {},
     "source": [
      "#### Importing data ####\n",
      "Again, first the first five lines of the file, then the first five entries in the array."
     ]
    },
    {
     "cell_type": "code",
     "collapsed": false,
     "input": [
      "!head -n 5 mlclass-ex2/ex2data1.txt\n",
      "data = genfromtxt('mlclass-ex2/ex2data2.txt', delimiter=',').T\n",
      "data.T[:5]"
     ],
     "language": "python",
     "metadata": {},
     "outputs": [
      {
       "output_type": "stream",
       "stream": "stdout",
       "text": [
        "34.62365962451697,78.0246928153624,0\r\n",
        "30.28671076822607,43.89499752400101,0\r\n",
        "35.84740876993872,72.90219802708364,0\r\n",
        "60.18259938620976,86.30855209546826,1\r\n",
        "79.0327360507101,75.3443764369103,1\r\n"
       ]
      },
      {
       "metadata": {},
       "output_type": "pyout",
       "prompt_number": 18,
       "text": [
        "array([[ 0.051267,  0.69956 ,  1.      ],\n",
        "       [-0.092742,  0.68494 ,  1.      ],\n",
        "       [-0.21371 ,  0.69225 ,  1.      ],\n",
        "       [-0.375   ,  0.50219 ,  1.      ],\n",
        "       [-0.51325 ,  0.46564 ,  1.      ]])"
       ]
      }
     ],
     "prompt_number": 18
    },
    {
     "cell_type": "markdown",
     "metadata": {},
     "source": [
      "#### Visualizing the data ####"
     ]
    },
    {
     "cell_type": "code",
     "collapsed": false,
     "input": [
      "features = float64(data[:2])\n",
      "y = int8(data[2])\n",
      "mask = (y == 1)\n",
      "\n",
      "def plot_success():\n",
      "    scatter(features[0][~mask], features[1][~mask], c='y', marker='o')\n",
      "    scatter(features[0][mask], features[1][mask], c='k', marker='+')\n",
      "plot_success()"
     ],
     "language": "python",
     "metadata": {},
     "outputs": [
      {
       "metadata": {},
       "output_type": "display_data",
       "png": "[encoded data removed]",
       "text": [
        "<matplotlib.figure.Figure at 0x7f3799248fd0>"
       ]
      }
     ],
     "prompt_number": 19
    },
    {
     "cell_type": "markdown",
     "metadata": {},
     "source": [
      "#### Preprocessing data ####\n",
      "First I will have to load the features in as x1 and x2. Then I will create a feature array with $1$, $x_1$, $x_2$, $x_1 x_2$, $x_1^2$, $x_2^2$, ... all the way to sixth degree polynomials. To do this, I will cycle through the combinations with replacement from the [itertools](https://docs.python.org/2/library/itertools.html#itertools.combinations_with_replacement) module, which will select combinations of length 6 out of x1, x2, and the identity element (1), and then multiply them all together."
     ]
    },
    {
     "cell_type": "code",
     "collapsed": false,
     "input": [
      "x1 = features[0]\n",
      "x2 = features[1]\n",
      "one = ones_like(features[0], dtype=float64)\n",
      "\n",
      "xs = ones((28, len(x1)))\n",
      "for n, terms in enumerate(itertools.combinations_with_replacement((one, x1, x2), 6)):\n",
      "    xs[n] = ones_like(features[0])\n",
      "    for term in terms:\n",
      "        xs[n] *= term\n",
      "\n",
      "print xs[:10, :4]"
     ],
     "language": "python",
     "metadata": {},
     "outputs": [
      {
       "output_type": "stream",
       "stream": "stdout",
       "text": [
        "[[  1.00000000e+00   1.00000000e+00   1.00000000e+00   1.00000000e+00]\n",
        " [  5.12670000e-02  -9.27420000e-02  -2.13710000e-01  -3.75000000e-01]\n",
        " [  6.99560000e-01   6.84940000e-01   6.92250000e-01   5.02190000e-01]\n",
        " [  2.62830529e-03   8.60107856e-03   4.56719641e-02   1.40625000e-01]\n",
        " [  3.58643425e-02  -6.35227055e-02  -1.47940748e-01  -1.88321250e-01]\n",
        " [  4.89384194e-01   4.69142804e-01   4.79210063e-01   2.52194796e-01]\n",
        " [  1.34745327e-04  -7.97681228e-04  -9.76055545e-03  -5.27343750e-02]\n",
        " [  1.83865725e-03   5.89122275e-03   3.16164171e-02   7.06204687e-02]\n",
        " [  2.50892595e-02  -4.35092419e-02  -1.02411982e-01  -9.45730485e-02]\n",
        " [  3.42353606e-01   3.21334672e-01   3.31733166e-01   1.26649705e-01]]\n"
       ]
      }
     ],
     "prompt_number": 20
    },
    {
     "cell_type": "markdown",
     "metadata": {},
     "source": [
      "The text says this method yields 28 features. I can confirm that."
     ]
    },
    {
     "cell_type": "code",
     "collapsed": false,
     "input": [
      "len(list(itertools.combinations_with_replacement((one, x1, x2), 6)))"
     ],
     "language": "python",
     "metadata": {},
     "outputs": [
      {
       "metadata": {},
       "output_type": "pyout",
       "prompt_number": 21,
       "text": [
        "28"
       ]
      }
     ],
     "prompt_number": 21
    },
    {
     "cell_type": "markdown",
     "metadata": {},
     "source": [
      "Then I will reuse the feature normalization function that I adapted from Lesson 1's notebook into `saved.ipy`."
     ]
    },
    {
     "cell_type": "code",
     "collapsed": false,
     "input": [
      "X, means, stddevs = preprocess(xs[1:])\n",
      "theta0 = zeros(len(X))\n",
      "print X[:10, :4]"
     ],
     "language": "python",
     "metadata": {},
     "outputs": [
      {
       "output_type": "stream",
       "stream": "stdout",
       "text": [
        "[[ 1.          1.          1.          1.        ]\n",
        " [-0.00710129 -0.29829632 -0.54290103 -0.8690393 ]\n",
        " [ 0.99791805  0.9696688   0.98379343  0.61655322]\n",
        " [-0.98977681 -0.96564216 -0.8158469  -0.43216267]\n",
        " [ 0.27489801 -0.1705373  -0.54888415 -0.72986247]\n",
        " [ 0.66359293  0.59215143  0.62768358 -0.17356133]\n",
        " [-0.21829255 -0.22170204 -0.25447549 -0.41161262]\n",
        " [-0.21502962 -0.1848169   0.00696975  0.29775303]\n",
        " [ 0.06425668 -0.39457831 -0.78856124 -0.73612894]\n",
        " [ 0.61587084  0.55114726  0.58316733 -0.04834594]]\n"
       ]
      }
     ],
     "prompt_number": 22
    },
    {
     "cell_type": "markdown",
     "metadata": {},
     "source": [
      "Slightly modified for in order to do regularization."
     ]
    },
    {
     "cell_type": "code",
     "collapsed": false,
     "input": [
      "def regularized_logistic_cost(theta, X, y, lambda_):\n",
      "    return logistic_cost(theta, X, y) + lambda_ / (2 * len(y)) * sum(theta**2)\n",
      "\n",
      "def gradient_regularized_logistic_cost(theta, X, y, lambda_):\n",
      "    mask = ones_like(theta)\n",
      "    mask[0] = 0\n",
      "    return gradient_logistic_cost(theta, X, y) + mask * lambda_ / len(y) * theta"
     ],
     "language": "python",
     "metadata": {},
     "outputs": [],
     "prompt_number": 23
    },
    {
     "cell_type": "code",
     "collapsed": false,
     "input": [
      "print '{} after initial guess'.format(logistic_cost(theta0, X, y, ))\n",
      "theta1 = minimize(regularized_logistic_cost, theta0, args=(X, y, 0.03), jac=gradient_regularized_logistic_cost).x\n",
      "print '{} after scipy minimize'.format(logistic_cost(theta1, X, y))"
     ],
     "language": "python",
     "metadata": {},
     "outputs": [
      {
       "output_type": "stream",
       "stream": "stdout",
       "text": [
        "0.69314718056 after initial guess\n",
        "0.289560157755 after scipy minimize"
       ]
      },
      {
       "output_type": "stream",
       "stream": "stdout",
       "text": [
        "\n"
       ]
      }
     ],
     "prompt_number": 24
    },
    {
     "cell_type": "markdown",
     "metadata": {},
     "source": [
      "So visualizing this boundary doesn't quite work yet. This is because sympy can not solve a 28-term two dimensional polynomial. If anybody can figure out how to do this, please email me at thegladiusmaximus@gmail.com."
     ]
    },
    {
     "cell_type": "code",
     "collapsed": false,
     "input": [
      "def get_polynomial(theta):\n",
      "    polynomial = 0\n",
      "    x1, x2 = sympy.symbols('x_1, x_2')\n",
      "    theta = theta.round(decimals=3)\n",
      "    for n, c in enumerate(itertools.combinations_with_replacement((1, x1, x2), 6)):\n",
      "        polynomial += theta[n] * reduce(operator.mul, c, 1)\n",
      "    return polynomial, x1, x2\n",
      "\n",
      "def boundary(x1s, theta):\n",
      "    \n",
      "    print polynomial\n",
      "    print sympy.solve(polynomial, x2)\n",
      "    #gen_x2 = sympy.lambdify(x2, sympy.solve(polynomial, x2)[0], 'numpy')\n",
      "    #x2s = gen_x2(x1s)\n",
      "    #return x2s\n",
      "#figure()\n",
      "#plot_success()\n",
      "#x1s = linspace(-2, 2)\n",
      "#plot(x1s, boundary((x1s - means[1]) / stddevs[1], theta1) * stddevs[2] + means[2], 'b')\n",
      "#show()\n",
      "polynomial, x1, x2 = get_polynomial(theta1)\n",
      "sympy.solve(polynomial, x2)"
     ],
     "language": "python",
     "metadata": {},
     "outputs": [
      {
       "metadata": {},
       "output_type": "pyout",
       "prompt_number": 40,
       "text": [
        "[]"
       ]
      }
     ],
     "prompt_number": 40
    },
    {
     "cell_type": "markdown",
     "metadata": {},
     "source": [
      "Here is the actual polynomial polynomial that I can't solve. [Wolfram Alpha](http://www.wolframalpha.com/input/?i=0+%3D+-3.8*x_1%5E6+-+0.826*x_1%5E5*x_2+%2B+0.29*x_1%5E5+-+0.404*x_1%5E4*x_2%5E2+-+0.418*x_1%5E4*x_2+-+0.187*x_1%5E4+%2B+1.073*x_1%5E3*x_2%5E3+%2B+0.845*x_1%5E3*x_2%5E2+-+0.431*x_1%5E3*x_2+%2B+0.781*x_1%5E3+-+3.249*x_1%5E2*x_2%5E4+-+0.46*x_1) can do it, I wonder why I can't. See all of those _solutions for $x_2$_: $x_2 = ...$. I need to get that in sympy. "
     ]
    },
    {
     "cell_type": "code",
     "collapsed": false,
     "input": [
      "print '0 = ' + str(get_polynomial(theta1)[0]).replace('**', '^')"
     ],
     "language": "python",
     "metadata": {},
     "outputs": [
      {
       "output_type": "stream",
       "stream": "stdout",
       "text": [
        "0 = -3.8*x_1^6 - 0.826*x_1^5*x_2 + 0.29*x_1^5 - 0.404*x_1^4*x_2^2 - 0.418*x_1^4*x_2 - 0.187*x_1^4 + 1.073*x_1^3*x_2^3 + 0.845*x_1^3*x_2^2 - 0.431*x_1^3*x_2 + 0.781*x_1^3 - 3.249*x_1^2*x_2^4 - 0.46*x_1^2*x_2^3 + 0.544*x_1^2*x_2^2 + 1.654*x_1^2*x_2 - 0.969*x_1^2 - 2.605*x_1*x_2^5 - 1.722*x_1*x_2^4 - 0.267*x_1*x_2^3 + 2.232*x_1*x_2^2 - 1.39*x_1*x_2 + 0.387*x_1 - 0.955*x_2^6 + 0.722*x_2^5 - 2.713*x_2^4 + 0.681*x_2^3 - 0.871*x_2^2 + 1.654*x_2 - 1.595\n"
       ]
      }
     ],
     "prompt_number": 37
    }
   ],
   "metadata": {}
  }
 ]
}
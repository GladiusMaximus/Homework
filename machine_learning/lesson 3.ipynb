{
 "metadata": {
  "name": "",
  "signature": "sha256:737e3070b60d1d6b43dbce3dd9762aef1eec9fcb7e6477251d877d4352c00dd3"
 },
 "nbformat": 3,
 "nbformat_minor": 0,
 "worksheets": [
  {
   "cells": [
    {
     "cell_type": "code",
     "collapsed": false,
     "input": [
      "%pylab inline\n",
      "import numpy as np\n",
      "import operator\n",
      "import random\n",
      "import functools\n",
      "import itertools\n",
      "import sympy\n",
      "%run saved.ipy"
     ],
     "language": "python",
     "metadata": {},
     "outputs": [
      {
       "output_type": "stream",
       "stream": "stdout",
       "text": [
        "Populating the interactive namespace from numpy and matplotlib\n"
       ]
      },
      {
       "output_type": "stream",
       "stream": "stderr",
       "text": [
        "WARNING: pylab import has clobbered these variables: ['dot', 'random']\n",
        "`%matplotlib` prevents importing * from pylab and numpy\n"
       ]
      }
     ],
     "prompt_number": 227
    },
    {
     "cell_type": "markdown",
     "metadata": {},
     "source": [
      "#### The dataset ####\n",
      "This is a little bit more complicated. This time, we have the data as a matlab matrix. We can import this using the loadmat function from [scipy.io](http://docs.scipy.org/doc/scipy/reference/tutorial/io.html). This imports a dictionary of variables."
     ]
    },
    {
     "cell_type": "code",
     "collapsed": false,
     "input": [
      "import scipy.io\n",
      "data = scipy.io.loadmat('mlclass-ex3/ex3data1.mat')\n",
      "data"
     ],
     "language": "python",
     "metadata": {},
     "outputs": [
      {
       "metadata": {},
       "output_type": "pyout",
       "prompt_number": 228,
       "text": [
        "{'X': array([[ 0.,  0.,  0., ...,  0.,  0.,  0.],\n",
        "        [ 0.,  0.,  0., ...,  0.,  0.,  0.],\n",
        "        [ 0.,  0.,  0., ...,  0.,  0.,  0.],\n",
        "        ..., \n",
        "        [ 0.,  0.,  0., ...,  0.,  0.,  0.],\n",
        "        [ 0.,  0.,  0., ...,  0.,  0.,  0.],\n",
        "        [ 0.,  0.,  0., ...,  0.,  0.,  0.]]),\n",
        " '__globals__': [],\n",
        " '__header__': 'MATLAB 5.0 MAT-file, Platform: GLNXA64, Created on: Sun Oct 16 13:09:09 2011',\n",
        " '__version__': '1.0',\n",
        " 'y': array([[10],\n",
        "        [10],\n",
        "        [10],\n",
        "        ..., \n",
        "        [ 9],\n",
        "        [ 9],\n",
        "        [ 9]], dtype=uint8)}"
       ]
      }
     ],
     "prompt_number": 228
    },
    {
     "cell_type": "code",
     "collapsed": false,
     "input": [
      "X, y = data['X'], data['y'][:, 0]\n",
      "X.shape, y.shape"
     ],
     "language": "python",
     "metadata": {},
     "outputs": [
      {
       "metadata": {},
       "output_type": "pyout",
       "prompt_number": 229,
       "text": [
        "((5000, 400), (5000,))"
       ]
      }
     ],
     "prompt_number": 229
    },
    {
     "cell_type": "markdown",
     "metadata": {},
     "source": [
      "I know my input data is 5000 by 400. I know it contains 10 different classes of symbols (the numbers 0 through 10). I know each sample of a symbols is 20 by 20 pixels. I want to build an array called `symbols` that is 4-dimensional. The first dimension is which symbol, the second dimension is which sample, the third dimension is x-pixel and the fourth dimension is y-pixel."
     ]
    },
    {
     "cell_type": "code",
     "collapsed": false,
     "input": [
      "m = len(y) # total number of symbols\n",
      "features = size(X, 1) # number of features (one for each pixels) in each symbol\n",
      "classes = 10 # K different classes of symbols\n",
      "samples = len(X) / K # number of samples for each symbol\n",
      "symbols = reshape(X, (K, samples, 20, 20))\n",
      "symbols.shape"
     ],
     "language": "python",
     "metadata": {},
     "outputs": [
      {
       "metadata": {},
       "output_type": "pyout",
       "prompt_number": 251,
       "text": [
        "(10, 500, 20, 20)"
       ]
      }
     ],
     "prompt_number": 251
    },
    {
     "cell_type": "markdown",
     "metadata": {},
     "source": [
      "#### Visualizing the data ####\n",
      "Here is an image showing the 40th sample of the number 5."
     ]
    },
    {
     "cell_type": "code",
     "collapsed": false,
     "input": [
      "imshow(symbols[5, 40].T, cmap='gray_r', interpolation='spline16')\n",
      "show()"
     ],
     "language": "python",
     "metadata": {},
     "outputs": [
      {
       "metadata": {},
       "output_type": "display_data",
       "png": "[encoded data removed]",
       "text": [
        "<matplotlib.figure.Figure at 0x7f4b29bb7250>"
       ]
      }
     ],
     "prompt_number": 231
    },
    {
     "cell_type": "code",
     "collapsed": false,
     "input": [
      "res = empty((10 * 20, 10 * 20)) # 10 letters (20-pixel) by 10 letters (20 pixel)\n",
      "for i, letter in enumerate(letters):\n",
      "    # row is made by stacking the first 10 examples of a letter together\n",
      "    row = vstack(letter[:10])\n",
      "    res[:, i * 20:(i + 1) * 20] = row\n",
      "\n",
      "imshow(res.T, cmap='gray_r', aspect=1/1)\n",
      "axis('off')\n",
      "show()"
     ],
     "language": "python",
     "metadata": {},
     "outputs": [
      {
       "metadata": {},
       "output_type": "display_data",
       "png": "[encoded data removed]",
       "text": [
        "<matplotlib.figure.Figure at 0x7f4b29adfc90>"
       ]
      }
     ],
     "prompt_number": 232
    },
    {
     "cell_type": "markdown",
     "metadata": {},
     "source": [
      "#### Vectorizing the cost function ####\n",
      "\n",
      "In order to do that, I first need to write a vectorized version of linear hypothesis. I am going to start by defining theta for testing purposes. Then I am going to write a for loop that goes over the code I wrote from lesson 1. I am going to verify that it produces the correct matrix and time it."
     ]
    },
    {
     "cell_type": "code",
     "collapsed": false,
     "input": [
      "theta = zeros(features)\n",
      "def linear_hypothesis(theta, X):\n",
      "    output = empty(len(X))\n",
      "    for i in range(len(X)):\n",
      "        output[i] = dot(theta, X[i])[0]\n",
      "    return output\n",
      "print linear_hypothesis(theta, X).shape\n",
      "%timeit linear_hypothesis(theta, X)"
     ],
     "language": "python",
     "metadata": {},
     "outputs": [
      {
       "output_type": "stream",
       "stream": "stdout",
       "text": [
        "(5000,)\n",
        "10 loops, best of 3: 47.5 ms per loop"
       ]
      },
      {
       "output_type": "stream",
       "stream": "stdout",
       "text": [
        "\n"
       ]
      }
     ],
     "prompt_number": 234
    },
    {
     "cell_type": "markdown",
     "metadata": {},
     "source": [
      "As you can see, the for loop preforms pretty poorly. lets try a different method. I need to multiply every element of X by theta. I can't multiply a 5000 x 400 array by a 400 array, but I can multiply a 5000 x 400 array by a 1 x 400 array (numpy will tile the smaller array until it is the right size). This is why you see the `[newaxis, :]` subscript on theta. It runs decently fast."
     ]
    },
    {
     "cell_type": "code",
     "collapsed": false,
     "input": [
      "def linear_hypothesis(theta, X):\n",
      "    return sum(theta[newaxis, :] * X, axis=1)\n",
      "print linear_hypothesis(theta, X).shape\n",
      "%timeit linear_hypothesis(theta, X)"
     ],
     "language": "python",
     "metadata": {},
     "outputs": [
      {
       "output_type": "stream",
       "stream": "stdout",
       "text": [
        "(5000,)\n",
        "100 loops, best of 3: 6.53 ms per loop"
       ]
      },
      {
       "output_type": "stream",
       "stream": "stdout",
       "text": [
        "\n"
       ]
      }
     ],
     "prompt_number": 235
    },
    {
     "cell_type": "markdown",
     "metadata": {},
     "source": [
      "But the champion is the dot product. By rearranging the dot product from lesson 1 from `dot(theta, X)` to `dot(X, theta)`, it becomes a single line of code."
     ]
    },
    {
     "cell_type": "code",
     "collapsed": false,
     "input": [
      "def linear_hypothesis(theta, X):\n",
      "    return dot(X, theta)\n",
      "print linear_hypothesis(theta, X).shape\n",
      "%timeit linear_hypothesis(theta, X)"
     ],
     "language": "python",
     "metadata": {},
     "outputs": [
      {
       "output_type": "stream",
       "stream": "stdout",
       "text": [
        "(5000,)\n",
        "100 loops, best of 3: 5.28 ms per loop"
       ]
      },
      {
       "output_type": "stream",
       "stream": "stdout",
       "text": [
        "\n"
       ]
      }
     ],
     "prompt_number": 236
    },
    {
     "cell_type": "markdown",
     "metadata": {},
     "source": [
      "In general, first the less for-loops you use the better, then the less user defined function calls the better, finally the less numpy function calls you make (where operators count as function calls) the better. Applying these rules, we correctly predict that the last `linear_hypothesis` is the fastest one."
     ]
    },
    {
     "cell_type": "markdown",
     "metadata": {},
     "source": [
      "Now that we have a fast linear hypothesis, we need to convert that to a logistic hypothesis and compute the cost. I saved the `sigmoid` function from last time. It was just $ \\frac{1}{1 + e^{-x}} $."
     ]
    },
    {
     "cell_type": "code",
     "collapsed": false,
     "input": [
      "def logistic_hypothesis(theta, X):\n",
      "    return sigmoid(linear_hypothesis(theta, X))"
     ],
     "language": "python",
     "metadata": {},
     "outputs": [],
     "prompt_number": 237
    },
    {
     "cell_type": "markdown",
     "metadata": {},
     "source": [
      "With numpy arrays, the equal-sign does element-wise comparison. This means putting an array on the left side and a number on the right side returns an array of booleans stating whether that comparison was true or false for that particular element. For convenience sake, I will convert True to 1 and False to 0."
     ]
    },
    {
     "cell_type": "code",
     "collapsed": false,
     "input": [
      "print (y == 10)\n",
      "print (y == 10).astype(float64)"
     ],
     "language": "python",
     "metadata": {},
     "outputs": [
      {
       "output_type": "stream",
       "stream": "stdout",
       "text": [
        "[ True  True  True ..., False False False]\n",
        "[ 1.  1.  1. ...,  0.  0.  0.]\n"
       ]
      }
     ],
     "prompt_number": 253
    },
    {
     "cell_type": "code",
     "collapsed": false,
     "input": [
      "def logistic_cost(theta, X, y):\n",
      "    h = logistic_hypothesis\n",
      "    false_negatives = -y * log(h(theta, X))\n",
      "    false_positives = -(1 - y) * log(1.0 - h(theta, X))\n",
      "    return 1.0 / m * sum(false_negatives + false_positives)\n",
      "\n",
      "%timeit logistic_cost(theta, X, (y == 2).astype(float64))\n",
      "logistic_cost(theta, X, (y == 2).astype(float64))"
     ],
     "language": "python",
     "metadata": {},
     "outputs": [
      {
       "output_type": "stream",
       "stream": "stdout",
       "text": [
        "100 loops, best of 3: 13.2 ms per loop\n"
       ]
      },
      {
       "metadata": {},
       "output_type": "pyout",
       "prompt_number": 254,
       "text": [
        "0.6931471805599918"
       ]
      }
     ],
     "prompt_number": 254
    },
    {
     "cell_type": "markdown",
     "metadata": {},
     "source": [
      "#### Vectorizing the gradient ####"
     ]
    },
    {
     "cell_type": "code",
     "collapsed": false,
     "input": [
      "def gradient_logistic_cost(theta, X, y):\n",
      "    h = logistic_hypothesis\n",
      "    beta = h(theta, X) - y\n",
      "    return dot(X.T, beta)\n",
      "\n",
      "%timeit gradient_logistic_cost(theta, X, (y == 2).astype(float64))\n",
      "gradient_logistic_cost(theta, X, (y == 2).astype(float64)).shape"
     ],
     "language": "python",
     "metadata": {},
     "outputs": [
      {
       "output_type": "stream",
       "stream": "stdout",
       "text": [
        "100 loops, best of 3: 11 ms per loop\n"
       ]
      },
      {
       "metadata": {},
       "output_type": "pyout",
       "prompt_number": 255,
       "text": [
        "(400,)"
       ]
      }
     ],
     "prompt_number": 255
    },
    {
     "cell_type": "markdown",
     "metadata": {},
     "source": [
      "#### Vectorizing the regularized logistic regression ####"
     ]
    },
    {
     "cell_type": "code",
     "collapsed": false,
     "input": [
      "def regularized_logistic_cost(theta, X, y, lambdaa):\n",
      "    return logistic_cost(theta, X, y) + lambdaa / (2 * m) * sum(theta**2)\n",
      "\n",
      "%timeit regularized_logistic_cost(theta, X, (y == 2).astype(float64), 1.0)\n",
      "regularized_logistic_cost(theta, X, (y == 2).astype(float64), 1.0)"
     ],
     "language": "python",
     "metadata": {},
     "outputs": [
      {
       "output_type": "stream",
       "stream": "stdout",
       "text": [
        "100 loops, best of 3: 13.2 ms per loop\n"
       ]
      },
      {
       "metadata": {},
       "output_type": "pyout",
       "prompt_number": 256,
       "text": [
        "0.6931471805599918"
       ]
      }
     ],
     "prompt_number": 256
    },
    {
     "cell_type": "code",
     "collapsed": false,
     "input": [
      "def gradient_regularized_logistic_cost(theta, X, y, lambdaa):\n",
      "    return gradient_logistic_cost(theta, X, y) + lambdaa / m * theta\n",
      "\n",
      "%timeit gradient_regularized_logistic_cost(theta, X, (y == 2).astype(np.float64), 1.0)\n",
      "gradient_regularized_logistic_cost(theta, X, (y == 2).astype(float64), 1.0).shape"
     ],
     "language": "python",
     "metadata": {},
     "outputs": [
      {
       "output_type": "stream",
       "stream": "stdout",
       "text": [
        "100 loops, best of 3: 11 ms per loop\n"
       ]
      },
      {
       "metadata": {},
       "output_type": "pyout",
       "prompt_number": 257,
       "text": [
        "(400,)"
       ]
      }
     ],
     "prompt_number": 257
    },
    {
     "cell_type": "markdown",
     "metadata": {},
     "source": [
      "#### One-vs-all classification ####"
     ]
    },
    {
     "cell_type": "code",
     "collapsed": false,
     "input": [
      "theta_all = zeros((features, classes))\n",
      "class_names = np.array([10, 1, 2, 3, 4, 5, 6, 7, 8, 9])\n",
      "assert len(class_names) == classes"
     ],
     "language": "python",
     "metadata": {},
     "outputs": [],
     "prompt_number": 269
    },
    {
     "cell_type": "markdown",
     "metadata": {},
     "source": [
      "First I will create a y matrix that has each sample as a row and each class as a column. There should be a one if the sample matches the class. Below, you can see the original `y` on the left and the new `y_all` on the right as described above (I am only displying a small subset of the data here)."
     ]
    },
    {
     "cell_type": "code",
     "collapsed": false,
     "input": [
      "y_all = zeros((m, classes), dtype=float64)\n",
      "for i, result in enumerate(y):\n",
      "    y_all[i] = (result == class_names).astype(float64)\n",
      "print vstack(map(hstack, zip(y[0:2000:80, newaxis].astype(float64), y_all[0:2000:80])))"
     ],
     "language": "python",
     "metadata": {},
     "outputs": [
      {
       "output_type": "stream",
       "stream": "stdout",
       "text": [
        "[[ 10.   1.   0.   0.   0.   0.   0.   0.   0.   0.   0.]\n",
        " [ 10.   1.   0.   0.   0.   0.   0.   0.   0.   0.   0.]\n",
        " [ 10.   1.   0.   0.   0.   0.   0.   0.   0.   0.   0.]\n",
        " [ 10.   1.   0.   0.   0.   0.   0.   0.   0.   0.   0.]\n",
        " [ 10.   1.   0.   0.   0.   0.   0.   0.   0.   0.   0.]\n",
        " [ 10.   1.   0.   0.   0.   0.   0.   0.   0.   0.   0.]\n",
        " [ 10.   1.   0.   0.   0.   0.   0.   0.   0.   0.   0.]\n",
        " [  1.   0.   1.   0.   0.   0.   0.   0.   0.   0.   0.]\n",
        " [  1.   0.   1.   0.   0.   0.   0.   0.   0.   0.   0.]\n",
        " [  1.   0.   1.   0.   0.   0.   0.   0.   0.   0.   0.]\n",
        " [  1.   0.   1.   0.   0.   0.   0.   0.   0.   0.   0.]\n",
        " [  1.   0.   1.   0.   0.   0.   0.   0.   0.   0.   0.]\n",
        " [  1.   0.   1.   0.   0.   0.   0.   0.   0.   0.   0.]\n",
        " [  2.   0.   0.   1.   0.   0.   0.   0.   0.   0.   0.]\n",
        " [  2.   0.   0.   1.   0.   0.   0.   0.   0.   0.   0.]\n",
        " [  2.   0.   0.   1.   0.   0.   0.   0.   0.   0.   0.]\n",
        " [  2.   0.   0.   1.   0.   0.   0.   0.   0.   0.   0.]\n",
        " [  2.   0.   0.   1.   0.   0.   0.   0.   0.   0.   0.]\n",
        " [  2.   0.   0.   1.   0.   0.   0.   0.   0.   0.   0.]\n",
        " [  3.   0.   0.   0.   1.   0.   0.   0.   0.   0.   0.]\n",
        " [  3.   0.   0.   0.   1.   0.   0.   0.   0.   0.   0.]\n",
        " [  3.   0.   0.   0.   1.   0.   0.   0.   0.   0.   0.]\n",
        " [  3.   0.   0.   0.   1.   0.   0.   0.   0.   0.   0.]\n",
        " [  3.   0.   0.   0.   1.   0.   0.   0.   0.   0.   0.]\n",
        " [  3.   0.   0.   0.   1.   0.   0.   0.   0.   0.   0.]]\n"
       ]
      }
     ],
     "prompt_number": 294
    },
    {
     "cell_type": "code",
     "collapsed": false,
     "input": [
      "for classs in classes:\n",
      "    "
     ],
     "language": "python",
     "metadata": {},
     "outputs": []
    }
   ],
   "metadata": {}
  }
 ]
}